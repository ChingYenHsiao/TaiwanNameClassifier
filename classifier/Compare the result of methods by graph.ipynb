{
 "cells": [
  {
   "cell_type": "code",
   "execution_count": 1,
   "metadata": {},
   "outputs": [],
   "source": [
    "import plotly.plotly as py\n",
    "from plotly.offline import download_plotlyjs, init_notebook_mode, plot, iplot\n",
    "import plotly.graph_objs as go"
   ]
  },
  {
   "cell_type": "code",
   "execution_count": 2,
   "metadata": {},
   "outputs": [
    {
     "data": {
      "text/html": [
       "<script type=\"text/javascript\">window.PlotlyConfig = {MathJaxConfig: 'local'};</script><script type=\"text/javascript\">if (window.MathJax) {MathJax.Hub.Config({SVG: {font: \"STIX-Web\"}});}</script><script>requirejs.config({paths: { 'plotly': ['https://cdn.plot.ly/plotly-latest.min']},});if(!window._Plotly) {require(['plotly'],function(plotly) {window._Plotly=plotly;});}</script>"
      ],
      "text/vnd.plotly.v1+html": [
       "<script type=\"text/javascript\">window.PlotlyConfig = {MathJaxConfig: 'local'};</script><script type=\"text/javascript\">if (window.MathJax) {MathJax.Hub.Config({SVG: {font: \"STIX-Web\"}});}</script><script>requirejs.config({paths: { 'plotly': ['https://cdn.plot.ly/plotly-latest.min']},});if(!window._Plotly) {require(['plotly'],function(plotly) {window._Plotly=plotly;});}</script>"
      ]
     },
     "metadata": {},
     "output_type": "display_data"
    }
   ],
   "source": [
    "#https://plot.ly/python/offline/\n",
    "init_notebook_mode(connected=True)"
   ]
  },
  {
   "cell_type": "code",
   "execution_count": 3,
   "metadata": {},
   "outputs": [
    {
     "data": {
      "application/vnd.plotly.v1+json": {
       "config": {
        "linkText": "Export to plot.ly",
        "plotlyServerURL": "https://plot.ly",
        "showLink": false
       },
       "data": [
        {
         "mode": "lines+markers",
         "name": "Random平均年誤差",
         "type": "scatter",
         "uid": "23060d7a-f6b1-49e5-b634-7fdabe209049",
         "x": [
          0,
          1,
          2,
          3,
          4,
          5,
          6,
          7,
          8
         ],
         "y": [
          15.05,
          9.54,
          6.9,
          5.11,
          3.62,
          2.6,
          1.56,
          0.811,
          0.21
         ]
        },
        {
         "mode": "lines+markers",
         "name": "名字",
         "type": "scatter",
         "uid": "cc3a075a-f172-4d64-97a2-0fb693cf8cfa",
         "x": [
          0,
          1,
          2,
          3,
          4,
          5,
          6,
          7,
          8
         ],
         "y": [
          9.34,
          4.05,
          2.12,
          0.94,
          0.58,
          0.27,
          0.11,
          0.03,
          0.012
         ]
        },
        {
         "mode": "lines+markers",
         "name": "名字+名字w2v",
         "type": "scatter",
         "uid": "01fd71f5-9899-4bba-88d4-8fb50a3f2d9e",
         "x": [
          0,
          1,
          2,
          3,
          4,
          5,
          6,
          7,
          8
         ],
         "y": [
          9.45,
          4.12,
          2.17,
          0.98,
          0.59,
          0.25,
          0.09,
          0.03,
          0.011
         ]
        },
        {
         "mode": "lines+markers",
         "name": "名字+名字w2v+部首",
         "type": "scatter",
         "uid": "1c8d2a2a-d1d4-468a-9b5b-b34af0707e6f",
         "x": [
          0,
          1,
          2,
          3,
          4,
          5,
          6,
          7,
          8
         ],
         "y": [
          9.4,
          4.09,
          2.15,
          0.96,
          0.59,
          0.29,
          0.1,
          0.03,
          0.013
         ]
        },
        {
         "mode": "lines+markers",
         "name": "名字+名字w2v+部首+發音",
         "type": "scatter",
         "uid": "392e3ff0-4793-4f8f-bcee-f52e5ad9d983",
         "x": [
          0,
          1,
          2,
          3,
          4,
          5,
          6,
          7,
          8
         ],
         "y": [
          9.4,
          4.11,
          2.13,
          0.97,
          0.57,
          0.28,
          0.1,
          0.02,
          0.011
         ]
        },
        {
         "mode": "lines+markers",
         "name": "名字+名字w2v+部首+發音+性別機率",
         "type": "scatter",
         "uid": "c59456d1-de04-4d98-b7a0-1a28eb7aa3f0",
         "x": [
          0,
          1,
          2,
          3,
          4,
          5,
          6,
          7,
          8
         ],
         "y": [
          9.27,
          4.18,
          2.37,
          1.14,
          0.72,
          0.34,
          0.15,
          0.03,
          0.017
         ]
        },
        {
         "mode": "lines+markers",
         "name": "名字+名字w2v+性別機率+地格",
         "type": "scatter",
         "uid": "14e38445-0aad-428c-b935-479e1d11b0b4",
         "x": [
          0,
          1,
          2,
          3,
          4,
          5,
          6,
          7,
          8
         ],
         "y": [
          9.25,
          4.19,
          2.41,
          1.08,
          0.71,
          0.33,
          0.14,
          0.04,
          0.015
         ]
        },
        {
         "mode": "lines+markers",
         "name": "名字+名字w2v+性別機率+部首+發音+地格",
         "type": "scatter",
         "uid": "21cc3dbd-4f47-4534-905d-4301b3f45f05",
         "x": [
          0,
          1,
          2,
          3,
          4,
          5,
          6,
          7,
          8
         ],
         "y": [
          9.26,
          4.18,
          2.41,
          1.08,
          0.71,
          0.35,
          0.16,
          0.04,
          0.014
         ]
        }
       ],
       "layout": {
        "font": {
         "size": 16
        },
        "title": {
         "text": "五年一區間的平均年誤差"
        },
        "xaxis": {
         "title": {
          "font": {
           "color": "lightgrey",
           "family": "Arial, sans-serif",
           "size": 18
          },
          "text": "名字出現在幾個年份"
         }
        },
        "yaxis": {
         "title": {
          "font": {
           "color": "lightgrey",
           "family": "Arial, sans-serif",
           "size": 18
          },
          "text": "amount"
         }
        }
       }
      },
      "text/html": [
       "<div id=\"bf59fd78-6a5e-4008-a1c7-1df51aa48ea4\" style=\"height: 525px; width: 100%;\" class=\"plotly-graph-div\"></div><script type=\"text/javascript\">require([\"plotly\"], function(Plotly) { window.PLOTLYENV=window.PLOTLYENV || {};window.PLOTLYENV.BASE_URL=\"https://plot.ly\";Plotly.newPlot(\"bf59fd78-6a5e-4008-a1c7-1df51aa48ea4\", [{\"mode\": \"lines+markers\", \"name\": \"Random\\u5e73\\u5747\\u5e74\\u8aa4\\u5dee\", \"x\": [0, 1, 2, 3, 4, 5, 6, 7, 8], \"y\": [15.05, 9.54, 6.9, 5.11, 3.62, 2.6, 1.56, 0.811, 0.21], \"type\": \"scatter\", \"uid\": \"388273a3-e32f-497f-911a-a4fa675ad27e\"}, {\"mode\": \"lines+markers\", \"name\": \"\\u540d\\u5b57\", \"x\": [0, 1, 2, 3, 4, 5, 6, 7, 8], \"y\": [9.34, 4.05, 2.12, 0.94, 0.58, 0.27, 0.11, 0.03, 0.012], \"type\": \"scatter\", \"uid\": \"9a605681-a0b5-433d-a9c8-cd72e482eb10\"}, {\"mode\": \"lines+markers\", \"name\": \"\\u540d\\u5b57+\\u540d\\u5b57w2v\", \"x\": [0, 1, 2, 3, 4, 5, 6, 7, 8], \"y\": [9.45, 4.12, 2.17, 0.98, 0.59, 0.25, 0.09, 0.03, 0.011], \"type\": \"scatter\", \"uid\": \"8992c1af-46ba-42a4-9ec4-b20211e07550\"}, {\"mode\": \"lines+markers\", \"name\": \"\\u540d\\u5b57+\\u540d\\u5b57w2v+\\u90e8\\u9996\", \"x\": [0, 1, 2, 3, 4, 5, 6, 7, 8], \"y\": [9.4, 4.09, 2.15, 0.96, 0.59, 0.29, 0.1, 0.03, 0.013], \"type\": \"scatter\", \"uid\": \"340c5a4b-f9de-47ad-8d5b-2af463f0e64c\"}, {\"mode\": \"lines+markers\", \"name\": \"\\u540d\\u5b57+\\u540d\\u5b57w2v+\\u90e8\\u9996+\\u767c\\u97f3\", \"x\": [0, 1, 2, 3, 4, 5, 6, 7, 8], \"y\": [9.4, 4.11, 2.13, 0.97, 0.57, 0.28, 0.1, 0.02, 0.011], \"type\": \"scatter\", \"uid\": \"1937d9bd-3b48-4281-bda4-ad39f97bdf67\"}, {\"mode\": \"lines+markers\", \"name\": \"\\u540d\\u5b57+\\u540d\\u5b57w2v+\\u90e8\\u9996+\\u767c\\u97f3+\\u6027\\u5225\\u6a5f\\u7387\", \"x\": [0, 1, 2, 3, 4, 5, 6, 7, 8], \"y\": [9.27, 4.18, 2.37, 1.14, 0.72, 0.34, 0.15, 0.03, 0.017], \"type\": \"scatter\", \"uid\": \"9553e9b7-e846-46df-b7eb-6baa5ad7a9c6\"}, {\"mode\": \"lines+markers\", \"name\": \"\\u540d\\u5b57+\\u540d\\u5b57w2v+\\u6027\\u5225\\u6a5f\\u7387+\\u5730\\u683c\", \"x\": [0, 1, 2, 3, 4, 5, 6, 7, 8], \"y\": [9.25, 4.19, 2.41, 1.08, 0.71, 0.33, 0.14, 0.04, 0.015], \"type\": \"scatter\", \"uid\": \"1fd83840-5f4f-4939-955a-2d2298a11e4a\"}, {\"mode\": \"lines+markers\", \"name\": \"\\u540d\\u5b57+\\u540d\\u5b57w2v+\\u6027\\u5225\\u6a5f\\u7387+\\u90e8\\u9996+\\u767c\\u97f3+\\u5730\\u683c\", \"x\": [0, 1, 2, 3, 4, 5, 6, 7, 8], \"y\": [9.26, 4.18, 2.41, 1.08, 0.71, 0.35, 0.16, 0.04, 0.014], \"type\": \"scatter\", \"uid\": \"00e83c57-0be7-46ec-a234-d48ef5cf0556\"}], {\"font\": {\"size\": 16}, \"title\": {\"text\": \"\\u4e94\\u5e74\\u4e00\\u5340\\u9593\\u7684\\u5e73\\u5747\\u5e74\\u8aa4\\u5dee\"}, \"xaxis\": {\"title\": {\"text\": \"\\u540d\\u5b57\\u51fa\\u73fe\\u5728\\u5e7e\\u500b\\u5e74\\u4efd\", \"font\": {\"color\": \"lightgrey\", \"family\": \"Arial, sans-serif\", \"size\": 18}}}, \"yaxis\": {\"title\": {\"text\": \"amount\", \"font\": {\"color\": \"lightgrey\", \"family\": \"Arial, sans-serif\", \"size\": 18}}}}, {\"showLink\": false, \"linkText\": \"Export to plot.ly\", \"plotlyServerURL\": \"https://plot.ly\"})});</script><script type=\"text/javascript\">window.addEventListener(\"resize\", function(){window._Plotly.Plots.resize(document.getElementById(\"bf59fd78-6a5e-4008-a1c7-1df51aa48ea4\"));});</script>"
      ],
      "text/vnd.plotly.v1+html": [
       "<div id=\"bf59fd78-6a5e-4008-a1c7-1df51aa48ea4\" style=\"height: 525px; width: 100%;\" class=\"plotly-graph-div\"></div><script type=\"text/javascript\">require([\"plotly\"], function(Plotly) { window.PLOTLYENV=window.PLOTLYENV || {};window.PLOTLYENV.BASE_URL=\"https://plot.ly\";Plotly.newPlot(\"bf59fd78-6a5e-4008-a1c7-1df51aa48ea4\", [{\"mode\": \"lines+markers\", \"name\": \"Random\\u5e73\\u5747\\u5e74\\u8aa4\\u5dee\", \"x\": [0, 1, 2, 3, 4, 5, 6, 7, 8], \"y\": [15.05, 9.54, 6.9, 5.11, 3.62, 2.6, 1.56, 0.811, 0.21], \"type\": \"scatter\", \"uid\": \"388273a3-e32f-497f-911a-a4fa675ad27e\"}, {\"mode\": \"lines+markers\", \"name\": \"\\u540d\\u5b57\", \"x\": [0, 1, 2, 3, 4, 5, 6, 7, 8], \"y\": [9.34, 4.05, 2.12, 0.94, 0.58, 0.27, 0.11, 0.03, 0.012], \"type\": \"scatter\", \"uid\": \"9a605681-a0b5-433d-a9c8-cd72e482eb10\"}, {\"mode\": \"lines+markers\", \"name\": \"\\u540d\\u5b57+\\u540d\\u5b57w2v\", \"x\": [0, 1, 2, 3, 4, 5, 6, 7, 8], \"y\": [9.45, 4.12, 2.17, 0.98, 0.59, 0.25, 0.09, 0.03, 0.011], \"type\": \"scatter\", \"uid\": \"8992c1af-46ba-42a4-9ec4-b20211e07550\"}, {\"mode\": \"lines+markers\", \"name\": \"\\u540d\\u5b57+\\u540d\\u5b57w2v+\\u90e8\\u9996\", \"x\": [0, 1, 2, 3, 4, 5, 6, 7, 8], \"y\": [9.4, 4.09, 2.15, 0.96, 0.59, 0.29, 0.1, 0.03, 0.013], \"type\": \"scatter\", \"uid\": \"340c5a4b-f9de-47ad-8d5b-2af463f0e64c\"}, {\"mode\": \"lines+markers\", \"name\": \"\\u540d\\u5b57+\\u540d\\u5b57w2v+\\u90e8\\u9996+\\u767c\\u97f3\", \"x\": [0, 1, 2, 3, 4, 5, 6, 7, 8], \"y\": [9.4, 4.11, 2.13, 0.97, 0.57, 0.28, 0.1, 0.02, 0.011], \"type\": \"scatter\", \"uid\": \"1937d9bd-3b48-4281-bda4-ad39f97bdf67\"}, {\"mode\": \"lines+markers\", \"name\": \"\\u540d\\u5b57+\\u540d\\u5b57w2v+\\u90e8\\u9996+\\u767c\\u97f3+\\u6027\\u5225\\u6a5f\\u7387\", \"x\": [0, 1, 2, 3, 4, 5, 6, 7, 8], \"y\": [9.27, 4.18, 2.37, 1.14, 0.72, 0.34, 0.15, 0.03, 0.017], \"type\": \"scatter\", \"uid\": \"9553e9b7-e846-46df-b7eb-6baa5ad7a9c6\"}, {\"mode\": \"lines+markers\", \"name\": \"\\u540d\\u5b57+\\u540d\\u5b57w2v+\\u6027\\u5225\\u6a5f\\u7387+\\u5730\\u683c\", \"x\": [0, 1, 2, 3, 4, 5, 6, 7, 8], \"y\": [9.25, 4.19, 2.41, 1.08, 0.71, 0.33, 0.14, 0.04, 0.015], \"type\": \"scatter\", \"uid\": \"1fd83840-5f4f-4939-955a-2d2298a11e4a\"}, {\"mode\": \"lines+markers\", \"name\": \"\\u540d\\u5b57+\\u540d\\u5b57w2v+\\u6027\\u5225\\u6a5f\\u7387+\\u90e8\\u9996+\\u767c\\u97f3+\\u5730\\u683c\", \"x\": [0, 1, 2, 3, 4, 5, 6, 7, 8], \"y\": [9.26, 4.18, 2.41, 1.08, 0.71, 0.35, 0.16, 0.04, 0.014], \"type\": \"scatter\", \"uid\": \"00e83c57-0be7-46ec-a234-d48ef5cf0556\"}], {\"font\": {\"size\": 16}, \"title\": {\"text\": \"\\u4e94\\u5e74\\u4e00\\u5340\\u9593\\u7684\\u5e73\\u5747\\u5e74\\u8aa4\\u5dee\"}, \"xaxis\": {\"title\": {\"text\": \"\\u540d\\u5b57\\u51fa\\u73fe\\u5728\\u5e7e\\u500b\\u5e74\\u4efd\", \"font\": {\"color\": \"lightgrey\", \"family\": \"Arial, sans-serif\", \"size\": 18}}}, \"yaxis\": {\"title\": {\"text\": \"amount\", \"font\": {\"color\": \"lightgrey\", \"family\": \"Arial, sans-serif\", \"size\": 18}}}}, {\"showLink\": false, \"linkText\": \"Export to plot.ly\", \"plotlyServerURL\": \"https://plot.ly\"})});</script><script type=\"text/javascript\">window.addEventListener(\"resize\", function(){window._Plotly.Plots.resize(document.getElementById(\"bf59fd78-6a5e-4008-a1c7-1df51aa48ea4\"));});</script>"
      ]
     },
     "metadata": {},
     "output_type": "display_data"
    }
   ],
   "source": [
    "\n",
    "rand = [15.05,9.54,6.9,5.11,3.62,2.6,1.56,0.811,0.21]\n",
    "\n",
    "#FN1.FN2\n",
    "f_avg_error_list = [9.34,4.05,2.12,0.94,0.58,0.27,0.11,0.03,0.012]\n",
    "#放ｗ２ｖ + FN1.FN2\n",
    "f0_avg_error_list = [9.45,4.12,2.17,0.98,0.59,0.25,0.09,0.03,0.011]\n",
    "#ｗ２ｖ+ FN1.FN2+部首\n",
    "f1_avg_error_list = [9.4,4.09,2.15,0.96,0.59,0.29,0.1,0.03,0.013]\n",
    "#放ｗ２ｖ + FN1.FN2+部首+發音\n",
    "f2_avg_error_list = [9.4,4.11,2.13,0.97,0.57,0.28,0.10,0.02,0.011]\n",
    "#放ｗ２ｖ + FN1.FN2+部首+發音+性別\n",
    "f3_avg_error_list = [9.27,4.18,2.37,1.14,0.72,0.34,0.15,0.03,0.017]\n",
    "#放ｗ２ｖ+FN1.FN2+性別+人格\n",
    "f4_avg_error_list = [9.25,4.19,2.41,1.08,0.71,0.33,0.14,0.04,0.015]\n",
    "\n",
    "#放ｗ２ｖ + FN1.FN2+部首+發音+性別+人格\n",
    "f5_avg_error_list = [9.26,4.18,2.41,1.08,0.71,0.35,0.16,0.04,0.014 ]\n",
    "\n",
    "\n",
    "f = go.Scatter(\n",
    "    x = [ x for x in range(len(f4_avg_error_list))],\n",
    "    y = f_avg_error_list,\n",
    "    mode = 'lines+markers',\n",
    "    name = '名字'\n",
    ")\n",
    "\n",
    "\n",
    "f0 = go.Scatter(\n",
    "    x = [ x for x in range(len(f4_avg_error_list))],\n",
    "    y = f0_avg_error_list,\n",
    "    mode = 'lines+markers',\n",
    "    name = '名字+名字w2v'\n",
    ")\n",
    "\n",
    "\n",
    "f1 = go.Scatter(\n",
    "    x = [ x for x in range(len(f4_avg_error_list))],\n",
    "    y = f1_avg_error_list,\n",
    "    mode = 'lines+markers',\n",
    "    name = '名字+名字w2v+部首'\n",
    ")\n",
    "\n",
    "\n",
    "f2 = go.Scatter(\n",
    "    x = [ x for x in range(len(f4_avg_error_list))],\n",
    "    y = f2_avg_error_list,\n",
    "    mode = 'lines+markers',\n",
    "    name = '名字+名字w2v+部首+發音'\n",
    ")\n",
    "\n",
    "\n",
    "f3 = go.Scatter(\n",
    "    x = [ x for x in range(len(f4_avg_error_list))],\n",
    "    y = f3_avg_error_list,\n",
    "    mode = 'lines+markers',\n",
    "    name = '名字+名字w2v+部首+發音+性別機率'\n",
    ")\n",
    "\n",
    "\n",
    "f4 = go.Scatter(\n",
    "    x = [ x for x in range(len(f4_avg_error_list))],\n",
    "    y = f4_avg_error_list,\n",
    "    mode = 'lines+markers',\n",
    "    name = '名字+名字w2v+性別機率+地格'\n",
    ")\n",
    "\n",
    "f5 = go.Scatter(\n",
    "    x = [ x for x in range(len(f4_avg_error_list))],\n",
    "    y = f5_avg_error_list,\n",
    "    mode = 'lines+markers',\n",
    "    name = '名字+名字w2v+性別機率+部首+發音+地格'\n",
    ")\n",
    "\n",
    "rand = go.Scatter(\n",
    "    x = [ x for x in range(len(rand))],\n",
    "    y = rand,\n",
    "    mode = 'lines+markers',\n",
    "    name = 'Random平均年誤差'\n",
    ")\n",
    "\n",
    "\n",
    "\n",
    "data = [rand,f,f0,f1,f2,f3,f4,f5]\n",
    "layout = {'title': '五年一區間的平均年誤差', \n",
    "        'font': dict(size=16),\n",
    "        'xaxis':dict(\n",
    "            title='名字出現在幾個年份',\n",
    "        titlefont=dict(\n",
    "            family='Arial, sans-serif',\n",
    "            size=18,\n",
    "            color='lightgrey'\n",
    "        )),\n",
    "        'yaxis':dict(\n",
    "        title='amount',\n",
    "        titlefont=dict(\n",
    "            family='Arial, sans-serif',\n",
    "            size=18,\n",
    "            color='lightgrey'\n",
    "        ))\n",
    "                     }\n",
    "iplot({'data': data,'layout': layout} , filename='birthNumber')"
   ]
  },
  {
   "cell_type": "code",
   "execution_count": 4,
   "metadata": {},
   "outputs": [
    {
     "data": {
      "application/vnd.plotly.v1+json": {
       "config": {
        "linkText": "Export to plot.ly",
        "plotlyServerURL": "https://plot.ly",
        "showLink": false
       },
       "data": [
        {
         "mode": "lines+markers",
         "name": "名字",
         "type": "scatter",
         "uid": "bc7fd52f-c7b3-4cd1-b62c-6363bb9ba16d",
         "x": [
          0,
          1,
          2,
          3,
          4,
          5,
          6,
          7,
          8
         ],
         "y": [
          0.37940199335548175,
          0.5754716981132075,
          0.6927536231884058,
          0.8160469667318981,
          0.8397790055248618,
          0.8961538461538462,
          0.9294871794871794,
          0.9630086313193588,
          0.9428571428571428
         ]
        },
        {
         "mode": "lines+markers",
         "name": "名字+名字w2v",
         "type": "scatter",
         "uid": "fe9daf20-fef8-46fc-a449-bc98bade5b91",
         "x": [
          0,
          1,
          2,
          3,
          4,
          5,
          6,
          7,
          8
         ],
         "y": [
          0.372093023255814,
          0.5681341719077567,
          0.6855072463768116,
          0.8082191780821919,
          0.8370165745856354,
          0.9038461538461539,
          0.9423076923076923,
          0.9630086313193588,
          0.9476190476190476
         ]
        },
        {
         "mode": "lines+markers",
         "name": "名字+名字w2v+部首",
         "type": "scatter",
         "uid": "f0c2d47e-eba8-45e8-b3fa-5a5f214028e4",
         "x": [
          0,
          1,
          2,
          3,
          4,
          5,
          6,
          7,
          8
         ],
         "y": [
          0.3754152823920266,
          0.5712788259958071,
          0.6884057971014492,
          0.812133072407045,
          0.8370165745856354,
          0.8884615384615384,
          0.9358974358974358,
          0.9630086313193588,
          0.9380952380952381
         ]
        },
        {
         "mode": "lines+markers",
         "name": "名字+名字w2v+部首+發音",
         "type": "scatter",
         "uid": "5734ff1b-7d35-483c-a1b6-a1ffd2575c47",
         "x": [
          0,
          1,
          2,
          3,
          4,
          5,
          6,
          7,
          8
         ],
         "y": [
          0.3754152823920266,
          0.5691823899371068,
          0.691304347826087,
          0.8101761252446185,
          0.8425414364640884,
          0.8923076923076924,
          0.9358974358974358,
          0.9753390875462392,
          0.9476190476190476
         ]
        },
        {
         "mode": "lines+markers",
         "name": "名字+名字w2v+部首+發音+性別機率",
         "type": "scatter",
         "uid": "a2d7eeff-eaa0-43e7-b844-4f3bb23b747d",
         "x": [
          0,
          1,
          2,
          3,
          4,
          5,
          6,
          7,
          8
         ],
         "y": [
          0.38405315614617946,
          0.5618448637316562,
          0.6565217391304348,
          0.7769080234833661,
          0.8011049723756907,
          0.8692307692307693,
          0.9038461538461539,
          0.9630086313193588,
          0.9190476190476191
         ]
        },
        {
         "mode": "lines+markers",
         "name": "名字+名字w2v+性別機率+地格",
         "type": "scatter",
         "uid": "3bc9db17-d21d-4cc9-bba9-ade76103f225",
         "x": [
          0,
          1,
          2,
          3,
          4,
          5,
          6,
          7,
          8
         ],
         "y": [
          0.3853820598006645,
          0.560796645702306,
          0.6507246376811594,
          0.7886497064579256,
          0.8038674033149171,
          0.8730769230769231,
          0.9102564102564101,
          0.9506781750924784,
          0.9285714285714286
         ]
        },
        {
         "mode": "lines+markers",
         "name": "名字+名字w2v+性別機率+部首+發音+地格",
         "type": "scatter",
         "uid": "6217a1c2-54ec-4d5e-9836-5524418c4a3f",
         "x": [
          0,
          1,
          2,
          3,
          4,
          5,
          6,
          7,
          8
         ],
         "y": [
          0.38471760797342197,
          0.5618448637316562,
          0.6507246376811594,
          0.7886497064579256,
          0.8038674033149171,
          0.8653846153846153,
          0.8974358974358975,
          0.9506781750924784,
          0.9333333333333332
         ]
        }
       ],
       "layout": {
        "font": {
         "size": 16
        },
        "title": {
         "text": "五年一區間的平均年誤差"
        },
        "xaxis": {
         "title": {
          "font": {
           "color": "lightgrey",
           "family": "Arial, sans-serif",
           "size": 18
          },
          "text": "名字出現在幾個年份"
         }
        },
        "yaxis": {
         "title": {
          "font": {
           "color": "lightgrey",
           "family": "Arial, sans-serif",
           "size": 18
          },
          "text": "amount"
         }
        }
       }
      },
      "text/html": [
       "<div id=\"1723373c-3c44-41fd-bf68-2cbcd73d38af\" style=\"height: 525px; width: 100%;\" class=\"plotly-graph-div\"></div><script type=\"text/javascript\">require([\"plotly\"], function(Plotly) { window.PLOTLYENV=window.PLOTLYENV || {};window.PLOTLYENV.BASE_URL=\"https://plot.ly\";Plotly.newPlot(\"1723373c-3c44-41fd-bf68-2cbcd73d38af\", [{\"mode\": \"lines+markers\", \"name\": \"\\u540d\\u5b57\", \"x\": [0, 1, 2, 3, 4, 5, 6, 7, 8], \"y\": [0.37940199335548175, 0.5754716981132075, 0.6927536231884058, 0.8160469667318981, 0.8397790055248618, 0.8961538461538462, 0.9294871794871794, 0.9630086313193588, 0.9428571428571428], \"type\": \"scatter\", \"uid\": \"95973994-2281-43ae-af92-ec33acc9ade2\"}, {\"mode\": \"lines+markers\", \"name\": \"\\u540d\\u5b57+\\u540d\\u5b57w2v\", \"x\": [0, 1, 2, 3, 4, 5, 6, 7, 8], \"y\": [0.372093023255814, 0.5681341719077567, 0.6855072463768116, 0.8082191780821919, 0.8370165745856354, 0.9038461538461539, 0.9423076923076923, 0.9630086313193588, 0.9476190476190476], \"type\": \"scatter\", \"uid\": \"5e85d5b0-598f-411e-bc83-11fbdba5325e\"}, {\"mode\": \"lines+markers\", \"name\": \"\\u540d\\u5b57+\\u540d\\u5b57w2v+\\u90e8\\u9996\", \"x\": [0, 1, 2, 3, 4, 5, 6, 7, 8], \"y\": [0.3754152823920266, 0.5712788259958071, 0.6884057971014492, 0.812133072407045, 0.8370165745856354, 0.8884615384615384, 0.9358974358974358, 0.9630086313193588, 0.9380952380952381], \"type\": \"scatter\", \"uid\": \"14cc76ff-951a-4fcb-8335-87dfc724b945\"}, {\"mode\": \"lines+markers\", \"name\": \"\\u540d\\u5b57+\\u540d\\u5b57w2v+\\u90e8\\u9996+\\u767c\\u97f3\", \"x\": [0, 1, 2, 3, 4, 5, 6, 7, 8], \"y\": [0.3754152823920266, 0.5691823899371068, 0.691304347826087, 0.8101761252446185, 0.8425414364640884, 0.8923076923076924, 0.9358974358974358, 0.9753390875462392, 0.9476190476190476], \"type\": \"scatter\", \"uid\": \"7d911636-d07b-40e4-bc5d-cc9a131f8cbf\"}, {\"mode\": \"lines+markers\", \"name\": \"\\u540d\\u5b57+\\u540d\\u5b57w2v+\\u90e8\\u9996+\\u767c\\u97f3+\\u6027\\u5225\\u6a5f\\u7387\", \"x\": [0, 1, 2, 3, 4, 5, 6, 7, 8], \"y\": [0.38405315614617946, 0.5618448637316562, 0.6565217391304348, 0.7769080234833661, 0.8011049723756907, 0.8692307692307693, 0.9038461538461539, 0.9630086313193588, 0.9190476190476191], \"type\": \"scatter\", \"uid\": \"4d081d77-f92b-4459-a1c7-d5dbd48db587\"}, {\"mode\": \"lines+markers\", \"name\": \"\\u540d\\u5b57+\\u540d\\u5b57w2v+\\u6027\\u5225\\u6a5f\\u7387+\\u5730\\u683c\", \"x\": [0, 1, 2, 3, 4, 5, 6, 7, 8], \"y\": [0.3853820598006645, 0.560796645702306, 0.6507246376811594, 0.7886497064579256, 0.8038674033149171, 0.8730769230769231, 0.9102564102564101, 0.9506781750924784, 0.9285714285714286], \"type\": \"scatter\", \"uid\": \"7d641fc6-72dc-44ca-b880-968bc20be4b2\"}, {\"mode\": \"lines+markers\", \"name\": \"\\u540d\\u5b57+\\u540d\\u5b57w2v+\\u6027\\u5225\\u6a5f\\u7387+\\u90e8\\u9996+\\u767c\\u97f3+\\u5730\\u683c\", \"x\": [0, 1, 2, 3, 4, 5, 6, 7, 8], \"y\": [0.38471760797342197, 0.5618448637316562, 0.6507246376811594, 0.7886497064579256, 0.8038674033149171, 0.8653846153846153, 0.8974358974358975, 0.9506781750924784, 0.9333333333333332], \"type\": \"scatter\", \"uid\": \"33027447-79bf-4b14-8f02-fc7a1fc605d0\"}], {\"font\": {\"size\": 16}, \"title\": {\"text\": \"\\u4e94\\u5e74\\u4e00\\u5340\\u9593\\u7684\\u5e73\\u5747\\u5e74\\u8aa4\\u5dee\"}, \"xaxis\": {\"title\": {\"text\": \"\\u540d\\u5b57\\u51fa\\u73fe\\u5728\\u5e7e\\u500b\\u5e74\\u4efd\", \"font\": {\"color\": \"lightgrey\", \"family\": \"Arial, sans-serif\", \"size\": 18}}}, \"yaxis\": {\"title\": {\"text\": \"amount\", \"font\": {\"color\": \"lightgrey\", \"family\": \"Arial, sans-serif\", \"size\": 18}}}}, {\"showLink\": false, \"linkText\": \"Export to plot.ly\", \"plotlyServerURL\": \"https://plot.ly\"})});</script><script type=\"text/javascript\">window.addEventListener(\"resize\", function(){window._Plotly.Plots.resize(document.getElementById(\"1723373c-3c44-41fd-bf68-2cbcd73d38af\"));});</script>"
      ],
      "text/vnd.plotly.v1+html": [
       "<div id=\"1723373c-3c44-41fd-bf68-2cbcd73d38af\" style=\"height: 525px; width: 100%;\" class=\"plotly-graph-div\"></div><script type=\"text/javascript\">require([\"plotly\"], function(Plotly) { window.PLOTLYENV=window.PLOTLYENV || {};window.PLOTLYENV.BASE_URL=\"https://plot.ly\";Plotly.newPlot(\"1723373c-3c44-41fd-bf68-2cbcd73d38af\", [{\"mode\": \"lines+markers\", \"name\": \"\\u540d\\u5b57\", \"x\": [0, 1, 2, 3, 4, 5, 6, 7, 8], \"y\": [0.37940199335548175, 0.5754716981132075, 0.6927536231884058, 0.8160469667318981, 0.8397790055248618, 0.8961538461538462, 0.9294871794871794, 0.9630086313193588, 0.9428571428571428], \"type\": \"scatter\", \"uid\": \"95973994-2281-43ae-af92-ec33acc9ade2\"}, {\"mode\": \"lines+markers\", \"name\": \"\\u540d\\u5b57+\\u540d\\u5b57w2v\", \"x\": [0, 1, 2, 3, 4, 5, 6, 7, 8], \"y\": [0.372093023255814, 0.5681341719077567, 0.6855072463768116, 0.8082191780821919, 0.8370165745856354, 0.9038461538461539, 0.9423076923076923, 0.9630086313193588, 0.9476190476190476], \"type\": \"scatter\", \"uid\": \"5e85d5b0-598f-411e-bc83-11fbdba5325e\"}, {\"mode\": \"lines+markers\", \"name\": \"\\u540d\\u5b57+\\u540d\\u5b57w2v+\\u90e8\\u9996\", \"x\": [0, 1, 2, 3, 4, 5, 6, 7, 8], \"y\": [0.3754152823920266, 0.5712788259958071, 0.6884057971014492, 0.812133072407045, 0.8370165745856354, 0.8884615384615384, 0.9358974358974358, 0.9630086313193588, 0.9380952380952381], \"type\": \"scatter\", \"uid\": \"14cc76ff-951a-4fcb-8335-87dfc724b945\"}, {\"mode\": \"lines+markers\", \"name\": \"\\u540d\\u5b57+\\u540d\\u5b57w2v+\\u90e8\\u9996+\\u767c\\u97f3\", \"x\": [0, 1, 2, 3, 4, 5, 6, 7, 8], \"y\": [0.3754152823920266, 0.5691823899371068, 0.691304347826087, 0.8101761252446185, 0.8425414364640884, 0.8923076923076924, 0.9358974358974358, 0.9753390875462392, 0.9476190476190476], \"type\": \"scatter\", \"uid\": \"7d911636-d07b-40e4-bc5d-cc9a131f8cbf\"}, {\"mode\": \"lines+markers\", \"name\": \"\\u540d\\u5b57+\\u540d\\u5b57w2v+\\u90e8\\u9996+\\u767c\\u97f3+\\u6027\\u5225\\u6a5f\\u7387\", \"x\": [0, 1, 2, 3, 4, 5, 6, 7, 8], \"y\": [0.38405315614617946, 0.5618448637316562, 0.6565217391304348, 0.7769080234833661, 0.8011049723756907, 0.8692307692307693, 0.9038461538461539, 0.9630086313193588, 0.9190476190476191], \"type\": \"scatter\", \"uid\": \"4d081d77-f92b-4459-a1c7-d5dbd48db587\"}, {\"mode\": \"lines+markers\", \"name\": \"\\u540d\\u5b57+\\u540d\\u5b57w2v+\\u6027\\u5225\\u6a5f\\u7387+\\u5730\\u683c\", \"x\": [0, 1, 2, 3, 4, 5, 6, 7, 8], \"y\": [0.3853820598006645, 0.560796645702306, 0.6507246376811594, 0.7886497064579256, 0.8038674033149171, 0.8730769230769231, 0.9102564102564101, 0.9506781750924784, 0.9285714285714286], \"type\": \"scatter\", \"uid\": \"7d641fc6-72dc-44ca-b880-968bc20be4b2\"}, {\"mode\": \"lines+markers\", \"name\": \"\\u540d\\u5b57+\\u540d\\u5b57w2v+\\u6027\\u5225\\u6a5f\\u7387+\\u90e8\\u9996+\\u767c\\u97f3+\\u5730\\u683c\", \"x\": [0, 1, 2, 3, 4, 5, 6, 7, 8], \"y\": [0.38471760797342197, 0.5618448637316562, 0.6507246376811594, 0.7886497064579256, 0.8038674033149171, 0.8653846153846153, 0.8974358974358975, 0.9506781750924784, 0.9333333333333332], \"type\": \"scatter\", \"uid\": \"33027447-79bf-4b14-8f02-fc7a1fc605d0\"}], {\"font\": {\"size\": 16}, \"title\": {\"text\": \"\\u4e94\\u5e74\\u4e00\\u5340\\u9593\\u7684\\u5e73\\u5747\\u5e74\\u8aa4\\u5dee\"}, \"xaxis\": {\"title\": {\"text\": \"\\u540d\\u5b57\\u51fa\\u73fe\\u5728\\u5e7e\\u500b\\u5e74\\u4efd\", \"font\": {\"color\": \"lightgrey\", \"family\": \"Arial, sans-serif\", \"size\": 18}}}, \"yaxis\": {\"title\": {\"text\": \"amount\", \"font\": {\"color\": \"lightgrey\", \"family\": \"Arial, sans-serif\", \"size\": 18}}}}, {\"showLink\": false, \"linkText\": \"Export to plot.ly\", \"plotlyServerURL\": \"https://plot.ly\"})});</script><script type=\"text/javascript\">window.addEventListener(\"resize\", function(){window._Plotly.Plots.resize(document.getElementById(\"1723373c-3c44-41fd-bf68-2cbcd73d38af\"));});</script>"
      ]
     },
     "metadata": {},
     "output_type": "display_data"
    }
   ],
   "source": [
    "\n",
    "\n",
    "rand = [15.05,9.54,6.9,5.11,3.62,2.6,1.56,0.811,0.21]\n",
    "\n",
    "#FN1.FN2\n",
    "f_avg_error_list = [9.34,4.05,2.12,0.94,0.58,0.27,0.11,0.03,0.012]\n",
    "#放ｗ２ｖ + FN1.FN2\n",
    "f0_avg_error_list = [9.45,4.12,2.17,0.98,0.59,0.25,0.09,0.03,0.011]\n",
    "#ｗ２ｖ+ FN1.FN2+部首\n",
    "f1_avg_error_list = [9.4,4.09,2.15,0.96,0.59,0.29,0.1,0.03,0.013]\n",
    "#放ｗ２ｖ + FN1.FN2+部首+發音\n",
    "f2_avg_error_list = [9.4,4.11,2.13,0.97,0.57,0.28,0.10,0.02,0.011]\n",
    "#放ｗ２ｖ + FN1.FN2+部首+發音+性別\n",
    "f3_avg_error_list = [9.27,4.18,2.37,1.14,0.72,0.34,0.15,0.03,0.017]\n",
    "#放ｗ２ｖ+FN1.FN2+性別+人格\n",
    "f4_avg_error_list = [9.25,4.19,2.41,1.08,0.71,0.33,0.14,0.04,0.015]\n",
    "\n",
    "#放ｗ２ｖ + FN1.FN2+部首+發音+性別+人格\n",
    "f5_avg_error_list = [9.26,4.18,2.41,1.08,0.71,0.35,0.16,0.04,0.014 ]\n",
    "\n",
    "\n",
    "for i in range(len(f4_avg_error_list)):\n",
    "    #print(f_avg_error_list[i],rand[i], abs(f_avg_error_list[i]-rand[i])/rand[i])\n",
    "\n",
    "    f_avg_error_list[i] = abs(f_avg_error_list[i]-rand[i])/rand[i]\n",
    "    f1_avg_error_list[i] = abs(f1_avg_error_list[i]-rand[i])/rand[i]\n",
    "    f2_avg_error_list[i] = abs(f2_avg_error_list[i]-rand[i])/rand[i]\n",
    "    f3_avg_error_list[i] = abs(f3_avg_error_list[i]-rand[i])/rand[i]\n",
    "    f4_avg_error_list[i] = abs(f4_avg_error_list[i]-rand[i])/rand[i]\n",
    "    f5_avg_error_list[i] = abs(f5_avg_error_list[i]-rand[i])/rand[i]\n",
    "    f0_avg_error_list[i] = abs(f0_avg_error_list[i]-rand[i])/rand[i]\n",
    "\n",
    "\n",
    "f = go.Scatter(\n",
    "    x = [ x for x in range(len(f4_avg_error_list))],\n",
    "    y = f_avg_error_list,\n",
    "    mode = 'lines+markers',\n",
    "    name = '名字'\n",
    ")\n",
    "\n",
    "\n",
    "f0 = go.Scatter(\n",
    "    x = [ x for x in range(len(f4_avg_error_list))],\n",
    "    y = f0_avg_error_list,\n",
    "    mode = 'lines+markers',\n",
    "    name = '名字+名字w2v'\n",
    ")\n",
    "\n",
    "\n",
    "f1 = go.Scatter(\n",
    "    x = [ x for x in range(len(f4_avg_error_list))],\n",
    "    y = f1_avg_error_list,\n",
    "    mode = 'lines+markers',\n",
    "    name = '名字+名字w2v+部首'\n",
    ")\n",
    "\n",
    "\n",
    "f2 = go.Scatter(\n",
    "    x = [ x for x in range(len(f4_avg_error_list))],\n",
    "    y = f2_avg_error_list,\n",
    "    mode = 'lines+markers',\n",
    "    name = '名字+名字w2v+部首+發音'\n",
    ")\n",
    "\n",
    "\n",
    "f3 = go.Scatter(\n",
    "    x = [ x for x in range(len(f4_avg_error_list))],\n",
    "    y = f3_avg_error_list,\n",
    "    mode = 'lines+markers',\n",
    "    name = '名字+名字w2v+部首+發音+性別機率'\n",
    ")\n",
    "\n",
    "\n",
    "f4 = go.Scatter(\n",
    "    x = [ x for x in range(len(f4_avg_error_list))],\n",
    "    y = f4_avg_error_list,\n",
    "    mode = 'lines+markers',\n",
    "    name = '名字+名字w2v+性別機率+地格'\n",
    ")\n",
    "\n",
    "f5 = go.Scatter(\n",
    "    x = [ x for x in range(len(f4_avg_error_list))],\n",
    "    y = f5_avg_error_list,\n",
    "    mode = 'lines+markers',\n",
    "    name = '名字+名字w2v+性別機率+部首+發音+地格'\n",
    ")\n",
    "\n",
    "rand = go.Scatter(\n",
    "    x = [ x for x in range(len(rand))],\n",
    "    y = rand,\n",
    "    mode = 'lines+markers',\n",
    "    name = 'Random平均年誤差'\n",
    ")\n",
    "\n",
    "\n",
    "\n",
    "data = [f,f0,f1,f2,f3,f4,f5]\n",
    "layout = {'title': '五年一區間的平均年誤差', \n",
    "        'font': dict(size=16),\n",
    "        'xaxis':dict(\n",
    "            title='名字出現在幾個年份',\n",
    "        titlefont=dict(\n",
    "            family='Arial, sans-serif',\n",
    "            size=18,\n",
    "            color='lightgrey'\n",
    "        )),\n",
    "        'yaxis':dict(\n",
    "        title='amount',\n",
    "        titlefont=dict(\n",
    "            family='Arial, sans-serif',\n",
    "            size=18,\n",
    "            color='lightgrey'\n",
    "        ))\n",
    "                     }\n",
    "iplot({'data': data,'layout': layout} , filename='birthNumber')"
   ]
  },
  {
   "cell_type": "code",
   "execution_count": 5,
   "metadata": {},
   "outputs": [
    {
     "data": {
      "application/vnd.plotly.v1+json": {
       "config": {
        "linkText": "Export to plot.ly",
        "plotlyServerURL": "https://plot.ly",
        "showLink": false
       },
       "data": [
        {
         "mode": "lines+markers",
         "name": "名字",
         "type": "scatter",
         "uid": "abc51d6a-4884-4b31-8e39-4d9d4d84f3f7",
         "x": [
          0,
          1,
          2,
          3,
          4,
          5,
          6,
          7,
          8
         ],
         "y": [
          35.35,
          55.96,
          69.15,
          78.03,
          83.68,
          90.29,
          96.12,
          99.03,
          98.46
         ]
        },
        {
         "mode": "lines+markers",
         "name": "w2v 維基&辭典",
         "type": "scatter",
         "uid": "2538e4e9-4019-498a-b574-b4144519a266",
         "x": [
          0,
          1,
          2,
          3,
          4,
          5,
          6,
          7,
          8
         ],
         "y": [
          33.1,
          54.61,
          68.71,
          76.88,
          84.37,
          88.4,
          93.45,
          96.67,
          88.19
         ]
        },
        {
         "mode": "lines+markers",
         "name": "w2v 辭典",
         "type": "scatter",
         "uid": "5c075160-0d4b-490d-a613-b95bc294f4f5",
         "x": [
          0,
          1,
          2,
          3,
          4,
          5,
          6,
          7,
          8
         ],
         "y": [
          31.61,
          52.46,
          67.79,
          76.19,
          81.69,
          89.93,
          93.34,
          97.77,
          100
         ]
        },
        {
         "mode": "lines+markers",
         "name": "名字+w2v辭典",
         "type": "scatter",
         "uid": "b12071e2-6778-46df-a8da-df337e1dee42",
         "x": [
          0,
          1,
          2,
          3,
          4,
          5,
          6,
          7,
          8
         ],
         "y": [
          33.09,
          55.59,
          69.79,
          78.82,
          83.54,
          90.39,
          95.16,
          99.59,
          97.9
         ]
        },
        {
         "mode": "lines+markers",
         "name": "名字+發音+性別機率+地格",
         "type": "scatter",
         "uid": "4e5cbf66-08a7-4aad-99d3-3936f6ea7172",
         "x": [
          0,
          1,
          2,
          3,
          4,
          5,
          6,
          7,
          8
         ],
         "y": [
          34.27,
          54.35,
          67.05,
          73.97,
          80.84,
          88.27,
          91.61,
          95.32,
          93.93
         ]
        },
        {
         "mode": "lines+markers",
         "name": "w2v 維基&辭典+發音+性別機率+地格",
         "type": "scatter",
         "uid": "20267252-fdd5-4110-b752-0ce678ad7479",
         "x": [
          0,
          1,
          2,
          3,
          4,
          5,
          6,
          7,
          8
         ],
         "y": [
          34.61,
          54.31,
          67.26,
          74.51,
          80.59,
          88.56,
          90.56,
          95.93,
          91.18
         ]
        },
        {
         "mode": "lines+markers",
         "name": "w2v 辭典+發音+性別機率+地格",
         "type": "scatter",
         "uid": "eb1098d3-16c9-4e81-92f9-35ed555ade95",
         "x": [
          0,
          1,
          2,
          3,
          4,
          5,
          6,
          7,
          8
         ],
         "y": [
          33.78,
          54.35,
          66.75,
          74.54,
          80.91,
          88.14,
          91.89,
          96.17,
          91.34
         ]
        },
        {
         "mode": "lines+markers",
         "name": "名字+發音+部首+地格",
         "type": "scatter",
         "uid": "a5563988-f663-4931-838f-4a937d2ca0c2",
         "x": [
          0,
          1,
          2,
          3,
          4,
          5,
          6,
          7,
          8
         ],
         "y": [
          34.34,
          55.63,
          69.01,
          77.19,
          82.58,
          90.991,
          95.61,
          96.45,
          95.78
         ]
        },
        {
         "mode": "lines+markers",
         "name": "w2v 辭典+發音+部首+地格",
         "type": "scatter",
         "uid": "bb6fc271-c0cf-4be1-a958-c20559096163",
         "x": [
          0,
          1,
          2,
          3,
          4,
          5,
          6,
          7,
          8
         ],
         "y": [
          33.58,
          55.47,
          68.33,
          77.25,
          83.34,
          89.84,
          95.97,
          98.61,
          97.9
         ]
        }
       ],
       "layout": {
        "font": {
         "size": 16
        },
        "title": {
         "text": "五年一區間的平均年誤差"
        },
        "xaxis": {
         "title": {
          "font": {
           "color": "lightgrey",
           "family": "Arial, sans-serif",
           "size": 18
          },
          "text": "名字出現在幾個年份"
         }
        },
        "yaxis": {
         "title": {
          "font": {
           "color": "lightgrey",
           "family": "Arial, sans-serif",
           "size": 18
          },
          "text": "amount"
         }
        }
       }
      },
      "text/html": [
       "<div id=\"5bed6c11-ce47-4737-8b9d-753ab54607eb\" style=\"height: 525px; width: 100%;\" class=\"plotly-graph-div\"></div><script type=\"text/javascript\">require([\"plotly\"], function(Plotly) { window.PLOTLYENV=window.PLOTLYENV || {};window.PLOTLYENV.BASE_URL=\"https://plot.ly\";Plotly.newPlot(\"5bed6c11-ce47-4737-8b9d-753ab54607eb\", [{\"mode\": \"lines+markers\", \"name\": \"\\u540d\\u5b57\", \"x\": [0, 1, 2, 3, 4, 5, 6, 7, 8], \"y\": [35.35, 55.96, 69.15, 78.03, 83.68, 90.29, 96.12, 99.03, 98.46], \"type\": \"scatter\", \"uid\": \"75d300b5-2ccf-4608-b10d-572dac26c296\"}, {\"mode\": \"lines+markers\", \"name\": \"w2v \\u7dad\\u57fa&\\u8fad\\u5178\", \"x\": [0, 1, 2, 3, 4, 5, 6, 7, 8], \"y\": [33.1, 54.61, 68.71, 76.88, 84.37, 88.4, 93.45, 96.67, 88.19], \"type\": \"scatter\", \"uid\": \"984faed4-b947-4066-abd2-99a1becc1b4c\"}, {\"mode\": \"lines+markers\", \"name\": \"w2v \\u8fad\\u5178\", \"x\": [0, 1, 2, 3, 4, 5, 6, 7, 8], \"y\": [31.61, 52.46, 67.79, 76.19, 81.69, 89.93, 93.34, 97.77, 100], \"type\": \"scatter\", \"uid\": \"567f4633-9ac5-4f68-9a51-3c81063f1191\"}, {\"mode\": \"lines+markers\", \"name\": \"\\u540d\\u5b57+w2v\\u8fad\\u5178\", \"x\": [0, 1, 2, 3, 4, 5, 6, 7, 8], \"y\": [33.09, 55.59, 69.79, 78.82, 83.54, 90.39, 95.16, 99.59, 97.9], \"type\": \"scatter\", \"uid\": \"6ad2decd-a4e0-4899-b5aa-636de028c98b\"}, {\"mode\": \"lines+markers\", \"name\": \"\\u540d\\u5b57+\\u767c\\u97f3+\\u6027\\u5225\\u6a5f\\u7387+\\u5730\\u683c\", \"x\": [0, 1, 2, 3, 4, 5, 6, 7, 8], \"y\": [34.27, 54.35, 67.05, 73.97, 80.84, 88.27, 91.61, 95.32, 93.93], \"type\": \"scatter\", \"uid\": \"f5404e0e-13a9-4016-9dd4-7f49a81fba98\"}, {\"mode\": \"lines+markers\", \"name\": \"w2v \\u7dad\\u57fa&\\u8fad\\u5178+\\u767c\\u97f3+\\u6027\\u5225\\u6a5f\\u7387+\\u5730\\u683c\", \"x\": [0, 1, 2, 3, 4, 5, 6, 7, 8], \"y\": [34.61, 54.31, 67.26, 74.51, 80.59, 88.56, 90.56, 95.93, 91.18], \"type\": \"scatter\", \"uid\": \"04ac181b-baa8-4c1a-8572-8738e15b4f39\"}, {\"mode\": \"lines+markers\", \"name\": \"w2v \\u8fad\\u5178+\\u767c\\u97f3+\\u6027\\u5225\\u6a5f\\u7387+\\u5730\\u683c\", \"x\": [0, 1, 2, 3, 4, 5, 6, 7, 8], \"y\": [33.78, 54.35, 66.75, 74.54, 80.91, 88.14, 91.89, 96.17, 91.34], \"type\": \"scatter\", \"uid\": \"bf79d408-75a7-4c06-bad1-6769e99ace7a\"}, {\"mode\": \"lines+markers\", \"name\": \"\\u540d\\u5b57+\\u767c\\u97f3+\\u90e8\\u9996+\\u5730\\u683c\", \"x\": [0, 1, 2, 3, 4, 5, 6, 7, 8], \"y\": [34.34, 55.63, 69.01, 77.19, 82.58, 90.991, 95.61, 96.45, 95.78], \"type\": \"scatter\", \"uid\": \"4e4b1b22-752f-47da-86d9-491a8869c749\"}, {\"mode\": \"lines+markers\", \"name\": \"w2v \\u8fad\\u5178+\\u767c\\u97f3+\\u90e8\\u9996+\\u5730\\u683c\", \"x\": [0, 1, 2, 3, 4, 5, 6, 7, 8], \"y\": [33.58, 55.47, 68.33, 77.25, 83.34, 89.84, 95.97, 98.61, 97.9], \"type\": \"scatter\", \"uid\": \"ad449e2a-28f3-4a31-92f2-f139458005b7\"}], {\"font\": {\"size\": 16}, \"title\": {\"text\": \"\\u4e94\\u5e74\\u4e00\\u5340\\u9593\\u7684\\u5e73\\u5747\\u5e74\\u8aa4\\u5dee\"}, \"xaxis\": {\"title\": {\"text\": \"\\u540d\\u5b57\\u51fa\\u73fe\\u5728\\u5e7e\\u500b\\u5e74\\u4efd\", \"font\": {\"color\": \"lightgrey\", \"family\": \"Arial, sans-serif\", \"size\": 18}}}, \"yaxis\": {\"title\": {\"text\": \"amount\", \"font\": {\"color\": \"lightgrey\", \"family\": \"Arial, sans-serif\", \"size\": 18}}}}, {\"showLink\": false, \"linkText\": \"Export to plot.ly\", \"plotlyServerURL\": \"https://plot.ly\"})});</script><script type=\"text/javascript\">window.addEventListener(\"resize\", function(){window._Plotly.Plots.resize(document.getElementById(\"5bed6c11-ce47-4737-8b9d-753ab54607eb\"));});</script>"
      ],
      "text/vnd.plotly.v1+html": [
       "<div id=\"5bed6c11-ce47-4737-8b9d-753ab54607eb\" style=\"height: 525px; width: 100%;\" class=\"plotly-graph-div\"></div><script type=\"text/javascript\">require([\"plotly\"], function(Plotly) { window.PLOTLYENV=window.PLOTLYENV || {};window.PLOTLYENV.BASE_URL=\"https://plot.ly\";Plotly.newPlot(\"5bed6c11-ce47-4737-8b9d-753ab54607eb\", [{\"mode\": \"lines+markers\", \"name\": \"\\u540d\\u5b57\", \"x\": [0, 1, 2, 3, 4, 5, 6, 7, 8], \"y\": [35.35, 55.96, 69.15, 78.03, 83.68, 90.29, 96.12, 99.03, 98.46], \"type\": \"scatter\", \"uid\": \"75d300b5-2ccf-4608-b10d-572dac26c296\"}, {\"mode\": \"lines+markers\", \"name\": \"w2v \\u7dad\\u57fa&\\u8fad\\u5178\", \"x\": [0, 1, 2, 3, 4, 5, 6, 7, 8], \"y\": [33.1, 54.61, 68.71, 76.88, 84.37, 88.4, 93.45, 96.67, 88.19], \"type\": \"scatter\", \"uid\": \"984faed4-b947-4066-abd2-99a1becc1b4c\"}, {\"mode\": \"lines+markers\", \"name\": \"w2v \\u8fad\\u5178\", \"x\": [0, 1, 2, 3, 4, 5, 6, 7, 8], \"y\": [31.61, 52.46, 67.79, 76.19, 81.69, 89.93, 93.34, 97.77, 100], \"type\": \"scatter\", \"uid\": \"567f4633-9ac5-4f68-9a51-3c81063f1191\"}, {\"mode\": \"lines+markers\", \"name\": \"\\u540d\\u5b57+w2v\\u8fad\\u5178\", \"x\": [0, 1, 2, 3, 4, 5, 6, 7, 8], \"y\": [33.09, 55.59, 69.79, 78.82, 83.54, 90.39, 95.16, 99.59, 97.9], \"type\": \"scatter\", \"uid\": \"6ad2decd-a4e0-4899-b5aa-636de028c98b\"}, {\"mode\": \"lines+markers\", \"name\": \"\\u540d\\u5b57+\\u767c\\u97f3+\\u6027\\u5225\\u6a5f\\u7387+\\u5730\\u683c\", \"x\": [0, 1, 2, 3, 4, 5, 6, 7, 8], \"y\": [34.27, 54.35, 67.05, 73.97, 80.84, 88.27, 91.61, 95.32, 93.93], \"type\": \"scatter\", \"uid\": \"f5404e0e-13a9-4016-9dd4-7f49a81fba98\"}, {\"mode\": \"lines+markers\", \"name\": \"w2v \\u7dad\\u57fa&\\u8fad\\u5178+\\u767c\\u97f3+\\u6027\\u5225\\u6a5f\\u7387+\\u5730\\u683c\", \"x\": [0, 1, 2, 3, 4, 5, 6, 7, 8], \"y\": [34.61, 54.31, 67.26, 74.51, 80.59, 88.56, 90.56, 95.93, 91.18], \"type\": \"scatter\", \"uid\": \"04ac181b-baa8-4c1a-8572-8738e15b4f39\"}, {\"mode\": \"lines+markers\", \"name\": \"w2v \\u8fad\\u5178+\\u767c\\u97f3+\\u6027\\u5225\\u6a5f\\u7387+\\u5730\\u683c\", \"x\": [0, 1, 2, 3, 4, 5, 6, 7, 8], \"y\": [33.78, 54.35, 66.75, 74.54, 80.91, 88.14, 91.89, 96.17, 91.34], \"type\": \"scatter\", \"uid\": \"bf79d408-75a7-4c06-bad1-6769e99ace7a\"}, {\"mode\": \"lines+markers\", \"name\": \"\\u540d\\u5b57+\\u767c\\u97f3+\\u90e8\\u9996+\\u5730\\u683c\", \"x\": [0, 1, 2, 3, 4, 5, 6, 7, 8], \"y\": [34.34, 55.63, 69.01, 77.19, 82.58, 90.991, 95.61, 96.45, 95.78], \"type\": \"scatter\", \"uid\": \"4e4b1b22-752f-47da-86d9-491a8869c749\"}, {\"mode\": \"lines+markers\", \"name\": \"w2v \\u8fad\\u5178+\\u767c\\u97f3+\\u90e8\\u9996+\\u5730\\u683c\", \"x\": [0, 1, 2, 3, 4, 5, 6, 7, 8], \"y\": [33.58, 55.47, 68.33, 77.25, 83.34, 89.84, 95.97, 98.61, 97.9], \"type\": \"scatter\", \"uid\": \"ad449e2a-28f3-4a31-92f2-f139458005b7\"}], {\"font\": {\"size\": 16}, \"title\": {\"text\": \"\\u4e94\\u5e74\\u4e00\\u5340\\u9593\\u7684\\u5e73\\u5747\\u5e74\\u8aa4\\u5dee\"}, \"xaxis\": {\"title\": {\"text\": \"\\u540d\\u5b57\\u51fa\\u73fe\\u5728\\u5e7e\\u500b\\u5e74\\u4efd\", \"font\": {\"color\": \"lightgrey\", \"family\": \"Arial, sans-serif\", \"size\": 18}}}, \"yaxis\": {\"title\": {\"text\": \"amount\", \"font\": {\"color\": \"lightgrey\", \"family\": \"Arial, sans-serif\", \"size\": 18}}}}, {\"showLink\": false, \"linkText\": \"Export to plot.ly\", \"plotlyServerURL\": \"https://plot.ly\"})});</script><script type=\"text/javascript\">window.addEventListener(\"resize\", function(){window._Plotly.Plots.resize(document.getElementById(\"5bed6c11-ce47-4737-8b9d-753ab54607eb\"));});</script>"
      ]
     },
     "metadata": {},
     "output_type": "display_data"
    }
   ],
   "source": [
    "\n",
    "\n",
    "#FN1.FN2\n",
    "f0_avg_error_list = [35.35,55.96,69.15,78.03,83.68,90.29,96.12,99.03,98.46]\n",
    "#放ｗ２ｖ mode=1\n",
    "f1_avg_error_list = [33.1,54.61,68.71,76.88,84.37,88.4,93.45,96.67,88.19]\n",
    "\n",
    "#放ｗ２ｖ mode=3\n",
    "f2_avg_error_list = [31.61,52.46,67.79,76.19,81.69,89.93,93.34,97.77,100]\n",
    "\n",
    "#FN1.FN2 m=3\n",
    "f8_avg_error_list = [33.09,55.59,69.79,78.82,83.54,90.39,95.16,99.59,97.9]\n",
    "\n",
    "#x_f = ['character','radical', 'in','stroke' ]\n",
    "f6_avg_error_list = [34.34,55.63,69.01,77.19,82.58,90.991,95.61,96.45,95.78]\n",
    "\n",
    "#x_f = ['w2v','radical', 'in','stroke' ] m=3\n",
    "f7_avg_error_list = [33.58,55.47,68.33,77.25,83.34,89.84,95.97,98.61,97.9]\n",
    "\n",
    "\n",
    "#x_f = ['character','radical', 'in','gender','stroke' ]\n",
    "f3_avg_error_list = [34.27,54.35,67.05,73.97,80.84,88.27,91.61,95.32,93.93]\n",
    "\n",
    "#x_f = ['w2v','radical', 'in','gender','stroke' ] m=1\n",
    "f4_avg_error_list = [34.61,54.31,67.26,74.51,80.59,88.56,90.56,95.93,91.18]\n",
    "\n",
    "#x_f = ['w2v','radical', 'in','gender','stroke' ] m=3\n",
    "f5_avg_error_list = [33.78,54.35,66.75,74.54,80.91,88.14,91.89,96.17,91.34]\n",
    "\n",
    "f0 = go.Scatter(\n",
    "    x = [ x for x in range(len(f4_avg_error_list))],\n",
    "    y = f0_avg_error_list,\n",
    "    mode = 'lines+markers',\n",
    "    name = '名字'\n",
    ")\n",
    "\n",
    "\n",
    "f1 = go.Scatter(\n",
    "    x = [ x for x in range(len(f4_avg_error_list))],\n",
    "    y = f1_avg_error_list,\n",
    "    mode = 'lines+markers',\n",
    "    name = 'w2v 維基&辭典'\n",
    ")\n",
    "\n",
    "\n",
    "f2 = go.Scatter(\n",
    "    x = [ x for x in range(len(f4_avg_error_list))],\n",
    "    y = f2_avg_error_list,\n",
    "    mode = 'lines+markers',\n",
    "    name = 'w2v 辭典'\n",
    ")\n",
    "\n",
    "\n",
    "f3 = go.Scatter(\n",
    "    x = [ x for x in range(len(f4_avg_error_list))],\n",
    "    y = f3_avg_error_list,\n",
    "    mode = 'lines+markers',\n",
    "    name = '名字+發音+性別機率+地格'\n",
    ")\n",
    "\n",
    "\n",
    "f4 = go.Scatter(\n",
    "    x = [ x for x in range(len(f4_avg_error_list))],\n",
    "    y = f4_avg_error_list,\n",
    "    mode = 'lines+markers',\n",
    "    name = 'w2v 維基&辭典+發音+性別機率+地格'\n",
    ")\n",
    "\n",
    "\n",
    "f5 = go.Scatter(\n",
    "    x = [ x for x in range(len(f4_avg_error_list))],\n",
    "    y = f5_avg_error_list,\n",
    "    mode = 'lines+markers',\n",
    "    name = 'w2v 辭典+發音+性別機率+地格'\n",
    ")\n",
    "\n",
    "f6 = go.Scatter(\n",
    "    x = [ x for x in range(len(f4_avg_error_list))],\n",
    "    y = f6_avg_error_list,\n",
    "    mode = 'lines+markers',\n",
    "    name = '名字+發音+部首+地格'\n",
    ")\n",
    "\n",
    "f7 = go.Scatter(\n",
    "    x = [ x for x in range(len(f4_avg_error_list))],\n",
    "    y = f7_avg_error_list,\n",
    "    mode = 'lines+markers',\n",
    "    name = 'w2v 辭典+發音+部首+地格'\n",
    ")\n",
    "\n",
    "f8 = go.Scatter(\n",
    "    x = [ x for x in range(len(f4_avg_error_list))],\n",
    "    y = f8_avg_error_list,\n",
    "    mode = 'lines+markers',\n",
    "    name = '名字+w2v辭典'\n",
    ")\n",
    "\n",
    "\n",
    "\n",
    "data = [f0,f1,f2,f8,f3,f4,f5,f6,f7]\n",
    "layout = {'title': '五年一區間的平均年誤差', \n",
    "        'font': dict(size=16),\n",
    "        'xaxis':dict(\n",
    "            title='名字出現在幾個年份',\n",
    "        titlefont=dict(\n",
    "            family='Arial, sans-serif',\n",
    "            size=18,\n",
    "            color='lightgrey'\n",
    "        )),\n",
    "        'yaxis':dict(\n",
    "        title='amount',\n",
    "        titlefont=dict(\n",
    "            family='Arial, sans-serif',\n",
    "            size=18,\n",
    "            color='lightgrey'\n",
    "        ))\n",
    "                     }\n",
    "iplot({'data': data,'layout': layout} , filename='birthNumber')"
   ]
  },
  {
   "cell_type": "code",
   "execution_count": null,
   "metadata": {
    "collapsed": true
   },
   "outputs": [],
   "source": []
  }
 ],
 "metadata": {
  "kernelspec": {
   "display_name": "Python 3",
   "language": "python",
   "name": "python3"
  },
  "language_info": {
   "codemirror_mode": {
    "name": "ipython",
    "version": 3
   },
   "file_extension": ".py",
   "mimetype": "text/x-python",
   "name": "python",
   "nbconvert_exporter": "python",
   "pygments_lexer": "ipython3",
   "version": "3.6.5"
  }
 },
 "nbformat": 4,
 "nbformat_minor": 2
}
